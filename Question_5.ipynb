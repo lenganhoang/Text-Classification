{
  "cells": [
    {
      "cell_type": "markdown",
      "metadata": {
        "id": "view-in-github",
        "colab_type": "text"
      },
      "source": [
        "<a href=\"https://colab.research.google.com/github/lenganhoang/Text-Classification/blob/master/Question_5.ipynb\" target=\"_parent\"><img src=\"https://colab.research.google.com/assets/colab-badge.svg\" alt=\"Open In Colab\"/></a>"
      ]
    },
    {
      "cell_type": "code",
      "execution_count": null,
      "metadata": {
        "colab": {
          "base_uri": "https://localhost:8080/"
        },
        "id": "FERLA6E2Fij4",
        "outputId": "4249733b-df81-4c0c-abf8-fbc57b067d36"
      },
      "outputs": [
        {
          "name": "stdout",
          "output_type": "stream",
          "text": [
            "Mounted at /content/gdrive\n"
          ]
        }
      ],
      "source": [
        "from google.colab import drive\n",
        "drive.mount('/content/gdrive')"
      ]
    },
    {
      "cell_type": "code",
      "execution_count": null,
      "metadata": {
        "id": "Ys_ltCfnLI-r"
      },
      "outputs": [],
      "source": [
        "import csv\n",
        "import tensorflow as tf\n",
        "import numpy as np\n",
        "import urllib"
      ]
    },
    {
      "cell_type": "code",
      "execution_count": null,
      "metadata": {
        "id": "bWnQaKUhLn4z"
      },
      "outputs": [],
      "source": [
        "def windowed_dataset(series, window_size, batch_size, shuffle_buffer):\n",
        "    series = tf.expand_dims(series, axis=-1)\n",
        "    ds = tf.data.Dataset.from_tensor_slices(series)\n",
        "    ds = ds.window(window_size + 1, shift=1, drop_remainder=True)\n",
        "    ds = ds.flat_map(lambda w: w.batch(window_size + 1))\n",
        "    ds = ds.shuffle(shuffle_buffer)\n",
        "    ds = ds.map(lambda w: (w[:-1], w[1:]))\n",
        "    return ds.batch(batch_size).prefetch(1)"
      ]
    },
    {
      "cell_type": "code",
      "execution_count": 10,
      "metadata": {
        "id": "k_Yb0fG8Lue5",
        "colab": {
          "base_uri": "https://localhost:8080/"
        },
        "outputId": "b38d227c-d2f7-49eb-85a1-da74794c536e"
      },
      "outputs": [
        {
          "output_type": "stream",
          "name": "stdout",
          "text": [
            "()\n",
            "Epoch 1/100\n",
            "93/93 [==============================] - 8s 41ms/step - loss: 0.0794\n",
            "Epoch 2/100\n",
            "93/93 [==============================] - 4s 41ms/step - loss: 0.0509\n",
            "Epoch 3/100\n",
            "93/93 [==============================] - 4s 41ms/step - loss: 0.0466\n",
            "Epoch 4/100\n",
            "93/93 [==============================] - 5s 53ms/step - loss: 0.0456\n",
            "Epoch 5/100\n",
            "93/93 [==============================] - 4s 40ms/step - loss: 0.0450\n",
            "Epoch 6/100\n",
            "93/93 [==============================] - 4s 41ms/step - loss: 0.0450\n",
            "Epoch 7/100\n",
            "93/93 [==============================] - 4s 42ms/step - loss: 0.0448\n",
            "Epoch 8/100\n",
            "93/93 [==============================] - 4s 41ms/step - loss: 0.0449\n",
            "Epoch 9/100\n",
            "93/93 [==============================] - 4s 41ms/step - loss: 0.0448\n",
            "Epoch 10/100\n",
            "93/93 [==============================] - 4s 41ms/step - loss: 0.0446\n",
            "Epoch 11/100\n",
            "93/93 [==============================] - 4s 41ms/step - loss: 0.0447\n",
            "Epoch 12/100\n",
            "93/93 [==============================] - 4s 41ms/step - loss: 0.0445\n",
            "Epoch 13/100\n",
            "93/93 [==============================] - 4s 41ms/step - loss: 0.0444\n",
            "Epoch 14/100\n",
            "93/93 [==============================] - 4s 41ms/step - loss: 0.0444\n",
            "Epoch 15/100\n",
            "93/93 [==============================] - 4s 40ms/step - loss: 0.0445\n",
            "Epoch 16/100\n",
            "93/93 [==============================] - 4s 41ms/step - loss: 0.0444\n",
            "Epoch 17/100\n",
            "93/93 [==============================] - 4s 41ms/step - loss: 0.0443\n",
            "Epoch 18/100\n",
            "93/93 [==============================] - 4s 42ms/step - loss: 0.0444\n",
            "Epoch 19/100\n",
            "93/93 [==============================] - 4s 41ms/step - loss: 0.0444\n",
            "Epoch 20/100\n",
            "93/93 [==============================] - 5s 49ms/step - loss: 0.0442\n",
            "Epoch 21/100\n",
            "93/93 [==============================] - 4s 41ms/step - loss: 0.0441\n",
            "Epoch 22/100\n",
            "93/93 [==============================] - 4s 42ms/step - loss: 0.0443\n",
            "Epoch 23/100\n",
            "93/93 [==============================] - 4s 42ms/step - loss: 0.0444\n",
            "Epoch 24/100\n",
            "93/93 [==============================] - 4s 41ms/step - loss: 0.0441\n",
            "Epoch 25/100\n",
            "93/93 [==============================] - 4s 40ms/step - loss: 0.0441\n",
            "Epoch 26/100\n",
            "93/93 [==============================] - 4s 41ms/step - loss: 0.0441\n",
            "Epoch 27/100\n",
            "93/93 [==============================] - 4s 41ms/step - loss: 0.0440\n",
            "Epoch 28/100\n",
            "93/93 [==============================] - 4s 41ms/step - loss: 0.0441\n",
            "Epoch 29/100\n",
            "93/93 [==============================] - 4s 41ms/step - loss: 0.0439\n",
            "Epoch 30/100\n",
            "93/93 [==============================] - 4s 41ms/step - loss: 0.0439\n",
            "Epoch 31/100\n",
            "93/93 [==============================] - 4s 41ms/step - loss: 0.0438\n",
            "Epoch 32/100\n",
            "93/93 [==============================] - 4s 40ms/step - loss: 0.0439\n",
            "Epoch 33/100\n",
            "93/93 [==============================] - 4s 42ms/step - loss: 0.0438\n",
            "Epoch 34/100\n",
            "93/93 [==============================] - 4s 41ms/step - loss: 0.0436\n",
            "Epoch 35/100\n",
            "93/93 [==============================] - 4s 40ms/step - loss: 0.0436\n",
            "Epoch 36/100\n",
            "93/93 [==============================] - 4s 41ms/step - loss: 0.0436\n",
            "Epoch 37/100\n",
            "93/93 [==============================] - 4s 42ms/step - loss: 0.0434\n",
            "Epoch 38/100\n",
            "93/93 [==============================] - 4s 41ms/step - loss: 0.0433\n",
            "Epoch 39/100\n",
            "93/93 [==============================] - 4s 41ms/step - loss: 0.0433\n",
            "Epoch 40/100\n",
            "93/93 [==============================] - 4s 40ms/step - loss: 0.0434\n",
            "Epoch 41/100\n",
            "93/93 [==============================] - 4s 41ms/step - loss: 0.0431\n",
            "Epoch 42/100\n",
            "93/93 [==============================] - 4s 41ms/step - loss: 0.0431\n",
            "Epoch 43/100\n",
            "93/93 [==============================] - 4s 41ms/step - loss: 0.0431\n",
            "Epoch 44/100\n",
            "93/93 [==============================] - 4s 40ms/step - loss: 0.0430\n",
            "Epoch 45/100\n",
            "93/93 [==============================] - 4s 40ms/step - loss: 0.0429\n",
            "Epoch 46/100\n",
            "93/93 [==============================] - 4s 41ms/step - loss: 0.0428\n",
            "Epoch 47/100\n",
            "93/93 [==============================] - 4s 41ms/step - loss: 0.0427\n",
            "Epoch 48/100\n",
            "93/93 [==============================] - 4s 41ms/step - loss: 0.0426\n",
            "Epoch 49/100\n",
            "93/93 [==============================] - 4s 42ms/step - loss: 0.0425\n",
            "Epoch 50/100\n",
            "93/93 [==============================] - 4s 41ms/step - loss: 0.0424\n",
            "Epoch 51/100\n",
            "93/93 [==============================] - 4s 41ms/step - loss: 0.0422\n",
            "Epoch 52/100\n",
            "93/93 [==============================] - 4s 40ms/step - loss: 0.0422\n",
            "Epoch 53/100\n",
            "93/93 [==============================] - 4s 41ms/step - loss: 0.0419\n",
            "Epoch 54/100\n",
            "93/93 [==============================] - 4s 41ms/step - loss: 0.0417\n",
            "Epoch 55/100\n",
            "93/93 [==============================] - 4s 41ms/step - loss: 0.0418\n",
            "Epoch 56/100\n",
            "93/93 [==============================] - 4s 42ms/step - loss: 0.0414\n",
            "Epoch 57/100\n",
            "93/93 [==============================] - 4s 42ms/step - loss: 0.0411\n",
            "Epoch 58/100\n",
            "93/93 [==============================] - 4s 41ms/step - loss: 0.0411\n",
            "Epoch 59/100\n",
            "93/93 [==============================] - 4s 41ms/step - loss: 0.0406\n",
            "Epoch 60/100\n",
            "93/93 [==============================] - 4s 41ms/step - loss: 0.0406\n",
            "Epoch 61/100\n",
            "93/93 [==============================] - 4s 41ms/step - loss: 0.0404\n",
            "Epoch 62/100\n",
            "93/93 [==============================] - 4s 43ms/step - loss: 0.0404\n",
            "Epoch 63/100\n",
            "93/93 [==============================] - 4s 41ms/step - loss: 0.0400\n",
            "Epoch 64/100\n",
            "93/93 [==============================] - 4s 40ms/step - loss: 0.0398\n",
            "Epoch 65/100\n",
            "93/93 [==============================] - 4s 41ms/step - loss: 0.0396\n",
            "Epoch 66/100\n",
            "93/93 [==============================] - 4s 40ms/step - loss: 0.0394\n",
            "Epoch 67/100\n",
            "93/93 [==============================] - 4s 41ms/step - loss: 0.0389\n",
            "Epoch 68/100\n",
            "93/93 [==============================] - 4s 40ms/step - loss: 0.0388\n",
            "Epoch 69/100\n",
            "93/93 [==============================] - 4s 41ms/step - loss: 0.0387\n",
            "Epoch 70/100\n",
            "93/93 [==============================] - 4s 41ms/step - loss: 0.0385\n",
            "Epoch 71/100\n",
            "93/93 [==============================] - 4s 41ms/step - loss: 0.0380\n",
            "Epoch 72/100\n",
            "93/93 [==============================] - 4s 41ms/step - loss: 0.0379\n",
            "Epoch 73/100\n",
            "93/93 [==============================] - 4s 41ms/step - loss: 0.0377\n",
            "Epoch 74/100\n",
            "93/93 [==============================] - 4s 41ms/step - loss: 0.0374\n",
            "Epoch 75/100\n",
            "93/93 [==============================] - 4s 41ms/step - loss: 0.0371\n",
            "Epoch 76/100\n",
            "93/93 [==============================] - 4s 42ms/step - loss: 0.0367\n",
            "Epoch 77/100\n",
            "93/93 [==============================] - 4s 40ms/step - loss: 0.0370\n",
            "Epoch 78/100\n",
            "93/93 [==============================] - 4s 40ms/step - loss: 0.0363\n",
            "Epoch 79/100\n",
            "93/93 [==============================] - 4s 40ms/step - loss: 0.0361\n",
            "Epoch 80/100\n",
            "93/93 [==============================] - 4s 41ms/step - loss: 0.0358\n",
            "Epoch 81/100\n",
            "93/93 [==============================] - 4s 42ms/step - loss: 0.0362\n",
            "Epoch 82/100\n",
            "93/93 [==============================] - 4s 41ms/step - loss: 0.0357\n",
            "Epoch 83/100\n",
            "93/93 [==============================] - 4s 40ms/step - loss: 0.0350\n",
            "Epoch 84/100\n",
            "93/93 [==============================] - 4s 41ms/step - loss: 0.0348\n",
            "Epoch 85/100\n",
            "93/93 [==============================] - 4s 41ms/step - loss: 0.0350\n",
            "Epoch 86/100\n",
            "93/93 [==============================] - 4s 41ms/step - loss: 0.0347\n",
            "Epoch 87/100\n",
            "93/93 [==============================] - 4s 41ms/step - loss: 0.0344\n",
            "Epoch 88/100\n",
            "93/93 [==============================] - 4s 41ms/step - loss: 0.0342\n",
            "Epoch 89/100\n",
            "93/93 [==============================] - 4s 41ms/step - loss: 0.0345\n",
            "Epoch 90/100\n",
            "93/93 [==============================] - 4s 43ms/step - loss: 0.0340\n",
            "Epoch 91/100\n",
            "93/93 [==============================] - 4s 41ms/step - loss: 0.0334\n",
            "Epoch 92/100\n",
            "93/93 [==============================] - 4s 41ms/step - loss: 0.0331\n",
            "Epoch 93/100\n",
            "93/93 [==============================] - 4s 41ms/step - loss: 0.0331\n",
            "Epoch 94/100\n",
            "93/93 [==============================] - 4s 41ms/step - loss: 0.0330\n",
            "Epoch 95/100\n",
            "93/93 [==============================] - 4s 41ms/step - loss: 0.0328\n",
            "Epoch 96/100\n",
            "93/93 [==============================] - 4s 40ms/step - loss: 0.0322\n",
            "Epoch 97/100\n",
            "93/93 [==============================] - 4s 41ms/step - loss: 0.0321\n",
            "Epoch 98/100\n",
            "93/93 [==============================] - 4s 41ms/step - loss: 0.0319\n",
            "Epoch 99/100\n",
            "93/93 [==============================] - 4s 41ms/step - loss: 0.0319\n",
            "Epoch 100/100\n",
            "93/93 [==============================] - 4s 41ms/step - loss: 0.0316\n"
          ]
        },
        {
          "output_type": "execute_result",
          "data": {
            "text/plain": [
              "<keras.callbacks.History at 0x7f93fa172790>"
            ]
          },
          "metadata": {},
          "execution_count": 10
        }
      ],
      "source": [
        "#def solution_model():\n",
        "url = 'https://storage.googleapis.com/download.tensorflow.org/data/Sunspots.csv'\n",
        "urllib.request.urlretrieve(url, 'sunspots.csv')\n",
        "\n",
        "time_step = []\n",
        "sunspots = []\n",
        "\n",
        "with open('sunspots.csv') as csvfile:\n",
        "    reader = csv.reader(csvfile, delimiter=',')\n",
        "    next(reader)\n",
        "    for row in reader:\n",
        "        sunspots.append(float(row[2]))\n",
        "        time_step.append(int(row[0]))\n",
        "\n",
        "series = np.array(sunspots)\n",
        "    # DO NOT CHANGE THIS CODE\n",
        "    # This is the normalization function\n",
        "min = np.min(series)\n",
        "max = np.max(series)\n",
        "series -= min\n",
        "series /= max\n",
        "time = np.array(time_step)\n",
        "\n",
        "    # The data should be split into training and validation sets at time step 3000\n",
        "    # DO NOT CHANGE THIS CODE\n",
        "split_time = 3000\n",
        "time_train = time[:split_time]\n",
        "x_train = series[:split_time]\n",
        "time_valid = time[split_time:]\n",
        "x_valid = series[split_time:]\n",
        "\n",
        "    # DO NOT CHANGE THIS CODE\n",
        "window_size = 30\n",
        "batch_size = 32\n",
        "shuffle_buffer_size = 1000\n",
        "\n",
        "train_set = windowed_dataset(x_train, window_size=window_size, batch_size=batch_size,\n",
        "                                 shuffle_buffer=shuffle_buffer_size)\n",
        "\n",
        "print(np.array(train_set).shape)\n",
        "\n",
        "model = tf.keras.models.Sequential([\n",
        "        tf.keras.layers.Conv1D(filters=60, kernel_size=5,\n",
        "                               strides=1, padding=\"causal\",\n",
        "                               activation=\"relu\",\n",
        "                               input_shape=[None, 1]),\n",
        "        tf.keras.layers.LSTM(60, return_sequences=True),\n",
        "        tf.keras.layers.LSTM(60, return_sequences=True),\n",
        "        tf.keras.layers.Dense(30, activation=\"relu\"),\n",
        "        tf.keras.layers.Dense(10, activation=\"relu\"),\n",
        "        tf.keras.layers.Dense(1)\n",
        "    ])\n",
        "\n",
        "model.compile(loss='mae', optimizer='adam')\n",
        "model.fit(train_set, batch_size=256, epochs=100)\n",
        "    # PLEASE NOTE IF YOU SEE THIS TEXT WHILE TRAINING -- IT IS SAFE TO IGNORE\n",
        "    # BaseCollectiveExecutor::StartAbort Out of range: End of sequence\n",
        "    # \t [[{{node IteratorGetNext}}]]\n",
        "    #\n",
        "\n",
        "    # YOUR CODE HERE TO COMPILE AND TRAIN THE MODEL"
      ]
    },
    {
      "cell_type": "code",
      "source": [
        "model.save('/content/gdrive/MyDrive/TF certi/question5.h5')"
      ],
      "metadata": {
        "id": "hD9utfLQN7GW"
      },
      "execution_count": 11,
      "outputs": []
    },
    {
      "cell_type": "code",
      "execution_count": 13,
      "metadata": {
        "id": "xRJtt1-lL3Dj",
        "colab": {
          "base_uri": "https://localhost:8080/"
        },
        "outputId": "180a7fde-1807-4062-fee5-413530e429a1"
      },
      "outputs": [
        {
          "output_type": "stream",
          "name": "stdout",
          "text": [
            "5\n"
          ]
        }
      ],
      "source": [
        "# THIS CODE IS USED IN THE TESTER FOR FORECASTING. IF YOU WANT TO TEST YOUR MODEL\n",
        "# BEFORE UPLOADING YOU CAN DO IT WITH THIS\n",
        "import math\n",
        "def model_forecast(model, series, window_size):\n",
        "   ds = tf.data.Dataset.from_tensor_slices(series)\n",
        "   ds = ds.window(window_size, shift=1, drop_remainder=True)\n",
        "   ds = ds.flat_map(lambda w: w.batch(window_size))\n",
        "   ds = ds.batch(32).prefetch(1)\n",
        "   forecast = model.predict(ds)\n",
        "   return forecast\n",
        "\n",
        "\n",
        "window_size = 30 # YOUR CODE HERE\n",
        "split_time = 3000\n",
        "rnn_forecast = model_forecast(model, series[..., np.newaxis], window_size)\n",
        "rnn_forecast = rnn_forecast[split_time - window_size:-1, -1, 0]\n",
        "\n",
        "result = tf.keras.metrics.mean_absolute_error(x_valid, rnn_forecast).numpy()\n",
        "\n",
        "## To get the maximum score, your model must have an MAE OF .12 or less.\n",
        "## When you Submit and Test your model, the grading infrastructure\n",
        "## converts the MAE of your model to a score from 0 to 5 as follows:\n",
        "\n",
        "test_val = 100 * result\n",
        "score = math.ceil(17 - test_val)\n",
        "if score > 5:\n",
        "   score = 5\n",
        "\n",
        "print(score)"
      ]
    },
    {
      "cell_type": "code",
      "source": [
        ""
      ],
      "metadata": {
        "id": "WsM4TpO9ORcX"
      },
      "execution_count": null,
      "outputs": []
    }
  ],
  "metadata": {
    "colab": {
      "name": "Question_5",
      "provenance": [],
      "authorship_tag": "ABX9TyNC7oSWS42NEazFC7N0mPID",
      "include_colab_link": true
    },
    "kernelspec": {
      "display_name": "Python 3",
      "name": "python3"
    },
    "language_info": {
      "name": "python"
    }
  },
  "nbformat": 4,
  "nbformat_minor": 0
}